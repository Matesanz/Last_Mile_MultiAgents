{
 "cells": [
  {
   "cell_type": "code",
   "execution_count": 1,
   "metadata": {},
   "outputs": [],
   "source": [
    "%matplotlib inline\n",
    "import matplotlib.pyplot as plt\n",
    "import numpy as np\n",
    "from random import sample\n",
    "\n",
    "# Import mesa dependencies\n",
    "from mesa import Agent, Model\n",
    "from mesa.time import RandomActivation\n",
    "from mesa.space import MultiGrid\n",
    "from mesa.datacollection import DataCollector\n",
    "from mesa.visualization.ModularVisualization import ModularServer\n",
    "from mesa.visualization.modules import CanvasGrid, ChartModule\n",
    "\n",
    "import nest_asyncio\n",
    "nest_asyncio.apply()"
   ]
  },
  {
   "cell_type": "code",
   "execution_count": 204,
   "metadata": {},
   "outputs": [],
   "source": [
    "class LastMileModel(Model):\n",
    "    \n",
    "    \"\"\"A model with some number of agents.\"\"\"\n",
    "    \n",
    "    def __init__(self, N_agents, N_business, width, height):\n",
    "        \n",
    "        # Number of Agents\n",
    "        self.num_agents = N_agents\n",
    "        #Number of destinies\n",
    "        self.num_business = N_business\n",
    "        # Grid Initializer\n",
    "        self.grid = MultiGrid(width, height, False)\n",
    "        # Time Module, in charge of runnning the agents\n",
    "        self.schedule = RandomActivation(self)\n",
    "        # Render Purposes\n",
    "        self.running = True\n",
    "        \n",
    "        # Where the base and business are initialized\n",
    "        self.base_location = self.get_random_positions(1)[0]\n",
    "        print(\"base is at  \", self.base_location)\n",
    "        positions = self.get_list_of_points_in_grid()\n",
    "        positions.remove(self.base_location)\n",
    "        self.business_locations = sample(positions, self.num_business)\n",
    "\n",
    "        # Create Base\n",
    "        self.base = self.add_base()\n",
    "\n",
    "        # Create Business\n",
    "        for loc in self.business_locations:\n",
    "            b = Business(loc, self)         \n",
    "            self.schedule.add(b)\n",
    "            self.grid.place_agent(b, loc)\n",
    "            \n",
    "        # Create Agents\n",
    "        for i in range(self.num_agents):\n",
    "            a = Rider(i, self)\n",
    "            self.schedule.add(a)\n",
    "\n",
    "            # Add riders to grid\n",
    "            self.grid.place_agent(a, self.base_location)\n",
    "            \n",
    "\n",
    "        self.datacollector = DataCollector(\n",
    "            model_reporters={},\n",
    "            #agent_reporters={\"Packages\": \"packs\"}\n",
    "        )\n",
    "            \n",
    "    def step(self):\n",
    "        self.datacollector.collect(self)\n",
    "        self.schedule.step()\n",
    "        \n",
    "    def add_base(self):\n",
    "        \n",
    "        # Add Base\n",
    "        base = Base(-1, self)\n",
    "        self.grid.place_agent(base, self.base_location)\n",
    "        self.schedule.add(base)\n",
    "        return base\n",
    "\n",
    "    \n",
    "    def get_list_of_points_in_grid(self):\n",
    "        \n",
    "        grid_points = []\n",
    "        for agents, x, y in self.grid.coord_iter():\n",
    "            grid_points.append((x,y))\n",
    "        \n",
    "        return grid_points\n",
    "    \n",
    "    def get_random_positions(self, N=1):\n",
    "        \n",
    "        positions = self.get_list_of_points_in_grid()\n",
    "        \n",
    "        return sample(positions, N)\n",
    "        \n"
   ]
  },
  {
   "cell_type": "code",
   "execution_count": 308,
   "metadata": {},
   "outputs": [],
   "source": [
    "class Rider(Agent):\n",
    "    \n",
    "    \"\"\" An agent that goes from A to B \"\"\"\n",
    "    def __init__(self, unique_id, model):\n",
    "        super().__init__(unique_id, model)\n",
    "        \n",
    "        self.packs = []\n",
    "        self.max_packs = 1\n",
    "\n",
    "        self.base_location = self.model.base_location\n",
    "        \n",
    "    def step(self):\n",
    "        \n",
    "        print('Im at ', self.pos)\n",
    "\n",
    "        \n",
    "        # if rider arrives to base picks the pack\n",
    "        if not self.packs and not self.is_rider_in_base():\n",
    "            self.move(self.base_location)\n",
    "\n",
    "            \n",
    "        # if rider arrives to destiny drop the pack\n",
    "        if self.packs:\n",
    "            print(\"i have \", len(self.packs), \" packs\" )\n",
    "            self.move(self.packs[-1].destination)\n",
    "            if self.is_rider_in_destiny():\n",
    "                print(\"i droped the pack\")\n",
    "                self.drop_pack()\n",
    "        \n",
    "\n",
    "            \n",
    "    def move(self, destiny):\n",
    "        \n",
    "        # Calculates direction vector towards destiny\n",
    "        direction = np.subtract(destiny, self.pos)\n",
    "        # Get longest axis in direcion\n",
    "        axis = np.argmax(abs(direction))\n",
    "\n",
    "        print(direction)\n",
    "        # The longest direction element becomes 1 toward the destiny\n",
    "        direction[axis] /= abs(direction[axis])\n",
    "        # The shortest direction element becomes 0\n",
    "        direction[axis - 1] = 0\n",
    "\n",
    "        # Add normalized direction to actual position to calculate next position\n",
    "        new_position = np.add(self.pos, direction)\n",
    "\n",
    "        # Apply movement to agent\n",
    "        new_position = tuple(new_position)\n",
    "        self.model.grid.move_agent(self, new_position)\n",
    "            \n",
    "\n",
    "        \n",
    "    def drop_pack(self):\n",
    "        \n",
    "        self.packs.pop()\n",
    "        print(self.packs)\n",
    "            \n",
    "    def pick_pack(self, pack):\n",
    "        \n",
    "        self.packs.append(pack)\n",
    "            \n",
    "    def set_destiny(self, destiny):\n",
    "        self.destiny = destiny\n",
    "        print('my new destiny is ', self.destiny)\n",
    "        \n",
    "    def is_rider_in_destiny(self):\n",
    "        return (self.pos == self.packs[-1].destination)\n",
    "    \n",
    "    def is_rider_in_base(self):\n",
    "        return (self.pos == self.base_location)\n",
    "    \n",
    "    def is_rider_full(self):\n",
    "        return(len(self.packs) == self.max_packs)"
   ]
  },
  {
   "cell_type": "code",
   "execution_count": 309,
   "metadata": {},
   "outputs": [],
   "source": [
    "class Pack:\n",
    "    \n",
    "    def __init__(self, destination):\n",
    "        \n",
    "        self.destination = destination"
   ]
  },
  {
   "cell_type": "code",
   "execution_count": 310,
   "metadata": {},
   "outputs": [],
   "source": [
    "class Business(Agent):\n",
    "    \n",
    "    def __init__(self, unique_id, model):\n",
    "        \n",
    "        super().__init__(unique_id, model)\n",
    "        \n",
    "        self.open_probability = 0.8\n",
    "        self.open = True\n",
    "        \n",
    "    def step(self):\n",
    "        \n",
    "        [self.open_business() if np.random.random() <= self.open_probability else self.close_business()]\n",
    "            \n",
    "        \n",
    "    def close_business(self):\n",
    "        self.open = False\n",
    "        \n",
    "    def open_business(self):\n",
    "        self.open = True"
   ]
  },
  {
   "cell_type": "code",
   "execution_count": 311,
   "metadata": {},
   "outputs": [],
   "source": [
    "class Base(Agent):\n",
    "    \n",
    "    def __init__(self, unique_id, model):\n",
    "        super().__init__(unique_id, model)\n",
    "        self.destinies = self.model.business_locations\n",
    "\n",
    "        \n",
    "    def step(self):\n",
    "        self.give_packs_to_riders_at_base()\n",
    "        return\n",
    "    \n",
    "    def create_pack(self):\n",
    "\n",
    "        dest = sample(self.destinies, 1)[0]\n",
    "        p = Pack(dest)\n",
    "        \n",
    "        return p\n",
    "        \n",
    "    \n",
    "    def give_packs_to_riders_at_base(self):\n",
    "        this_cell = self.model.grid.get_cell_list_contents([self.pos])\n",
    "        riders = [obj for obj in this_cell if isinstance(obj, Rider)]\n",
    "        \n",
    "        for rider in riders:\n",
    "            for i in range(rider.max_packs):\n",
    "                pack = self.create_pack()\n",
    "                rider.pick_pack(pack)\n"
   ]
  },
  {
   "cell_type": "code",
   "execution_count": 318,
   "metadata": {},
   "outputs": [],
   "source": [
    "def agent_portrayal(agent):\n",
    "    portrayal = {\"Shape\": \"resources/moto.png\"\n",
    "                 \"Layer\": 3,\n",
    "                 \"scale\": 0.9}\n",
    "    \n",
    "    if type(agent) is Rider:\n",
    "        \n",
    "        if len(agent.packs) == 2:\n",
    "            portrayal[\"Shape\"] = \"resources/van_full.png\"\n",
    "            \n",
    "        if len(agent.packs) == 1:\n",
    "            portrayal[\"Shape\"] = \"resources/van_half.png\"\n",
    "\n",
    "        if len(agent.packs) == 0:\n",
    "            portrayal[\"Shape\"] = \"resources/van.png\"\n",
    "\n",
    "        \n",
    "    if type(agent) is Base:\n",
    "        \n",
    "        portrayal[\"Shape\"] = \"resources/base.png\"\n",
    "        portrayal[\"Layer\"] = 2\n",
    "        \n",
    "    if type(agent) is Business:\n",
    "        \n",
    "        portrayal[\"Shape\"] = \"resources/dest.png\"\n",
    "        portrayal[\"Layer\"] = 2\n",
    "        \n",
    "    return portrayal"
   ]
  },
  {
   "cell_type": "code",
   "execution_count": 319,
   "metadata": {},
   "outputs": [
    {
     "name": "stdout",
     "output_type": "stream",
     "text": [
      "base is at   (1, 4)\n",
      "Im at  (1, 4)\n"
     ]
    }
   ],
   "source": [
    "model = LastMileModel(1, 7, 10, 10)\n",
    "for i in range(1):\n",
    "    model.step()"
   ]
  },
  {
   "cell_type": "code",
   "execution_count": 320,
   "metadata": {},
   "outputs": [
    {
     "name": "stdout",
     "output_type": "stream",
     "text": [
      "Im at  (1, 4)\n",
      "i have  2  packs\n",
      "[ 0 -3]\n"
     ]
    }
   ],
   "source": [
    "model.step()"
   ]
  },
  {
   "cell_type": "code",
   "execution_count": 321,
   "metadata": {},
   "outputs": [],
   "source": [
    "grid = CanvasGrid(agent_portrayal, 10, 10, 500, 500)"
   ]
  },
  {
   "cell_type": "code",
   "execution_count": 322,
   "metadata": {},
   "outputs": [
    {
     "name": "stdout",
     "output_type": "stream",
     "text": [
      "base is at   (2, 3)\n"
     ]
    }
   ],
   "source": [
    "server = ModularServer(LastMileModel,\n",
    "                       [grid],\n",
    "                       \"Last Mile Model\",\n",
    "                       {\"N_agents\":2, \"N_business\":7, \"width\":10, \"height\":10})\n",
    "\n",
    "server.port = 8538 # The default"
   ]
  },
  {
   "cell_type": "code",
   "execution_count": 323,
   "metadata": {
    "scrolled": true
   },
   "outputs": [
    {
     "name": "stdout",
     "output_type": "stream",
     "text": [
      "Interface starting at http://127.0.0.1:8538\n",
      "Socket opened!\n",
      "{\"type\":\"get_params\"}\n",
      "{\"type\":\"reset\"}\n",
      "base is at   (4, 7)\n",
      "{\"type\":\"get_step\",\"step\":1}\n",
      "Im at  (4, 7)\n",
      "Im at  (4, 7)\n",
      "i have  1  packs\n",
      "[-1  1]\n",
      "{\"type\":\"get_step\",\"step\":2}\n",
      "Im at  (4, 7)\n",
      "i have  1  packs\n",
      "[ 2 -5]\n",
      "Im at  (3, 7)\n",
      "i have  1  packs\n",
      "[0 1]\n",
      "i droped the pack\n",
      "[]\n",
      "{\"type\":\"get_step\",\"step\":3}\n",
      "Im at  (3, 8)\n",
      "[ 1 -1]\n",
      "Im at  (4, 6)\n",
      "i have  1  packs\n",
      "[ 2 -4]\n",
      "{\"type\":\"get_step\",\"step\":4}\n",
      "Im at  (4, 8)\n",
      "[ 0 -1]\n",
      "Im at  (4, 5)\n",
      "i have  1  packs\n",
      "[ 2 -3]\n"
     ]
    },
    {
     "ename": "KeyboardInterrupt",
     "evalue": "",
     "output_type": "error",
     "traceback": [
      "\u001b[1;31m---------------------------------------------------------------------------\u001b[0m",
      "\u001b[1;31mKeyboardInterrupt\u001b[0m                         Traceback (most recent call last)",
      "\u001b[1;32m<ipython-input-323-08d0c78f222e>\u001b[0m in \u001b[0;36m<module>\u001b[1;34m\u001b[0m\n\u001b[1;32m----> 1\u001b[1;33m \u001b[0mserver\u001b[0m\u001b[1;33m.\u001b[0m\u001b[0mlaunch\u001b[0m\u001b[1;33m(\u001b[0m\u001b[1;33m)\u001b[0m\u001b[1;33m\u001b[0m\u001b[0m\n\u001b[0m",
      "\u001b[1;32mD:\\ProgramFilesD\\Anaconda3\\envs\\mesa\\lib\\site-packages\\mesa\\visualization\\ModularVisualization.py\u001b[0m in \u001b[0;36mlaunch\u001b[1;34m(self, port)\u001b[0m\n\u001b[0;32m    322\u001b[0m         \u001b[0mwebbrowser\u001b[0m\u001b[1;33m.\u001b[0m\u001b[0mopen\u001b[0m\u001b[1;33m(\u001b[0m\u001b[0murl\u001b[0m\u001b[1;33m)\u001b[0m\u001b[1;33m\u001b[0m\u001b[0m\n\u001b[0;32m    323\u001b[0m         \u001b[0mtornado\u001b[0m\u001b[1;33m.\u001b[0m\u001b[0mautoreload\u001b[0m\u001b[1;33m.\u001b[0m\u001b[0mstart\u001b[0m\u001b[1;33m(\u001b[0m\u001b[1;33m)\u001b[0m\u001b[1;33m\u001b[0m\u001b[0m\n\u001b[1;32m--> 324\u001b[1;33m         \u001b[0mtornado\u001b[0m\u001b[1;33m.\u001b[0m\u001b[0mioloop\u001b[0m\u001b[1;33m.\u001b[0m\u001b[0mIOLoop\u001b[0m\u001b[1;33m.\u001b[0m\u001b[0mcurrent\u001b[0m\u001b[1;33m(\u001b[0m\u001b[1;33m)\u001b[0m\u001b[1;33m.\u001b[0m\u001b[0mstart\u001b[0m\u001b[1;33m(\u001b[0m\u001b[1;33m)\u001b[0m\u001b[1;33m\u001b[0m\u001b[0m\n\u001b[0m",
      "\u001b[1;32mD:\\ProgramFilesD\\Anaconda3\\envs\\mesa\\lib\\site-packages\\tornado\\platform\\asyncio.py\u001b[0m in \u001b[0;36mstart\u001b[1;34m(self)\u001b[0m\n\u001b[0;32m    151\u001b[0m             \u001b[0mself\u001b[0m\u001b[1;33m.\u001b[0m\u001b[0m_setup_logging\u001b[0m\u001b[1;33m(\u001b[0m\u001b[1;33m)\u001b[0m\u001b[1;33m\u001b[0m\u001b[0m\n\u001b[0;32m    152\u001b[0m             \u001b[0masyncio\u001b[0m\u001b[1;33m.\u001b[0m\u001b[0mset_event_loop\u001b[0m\u001b[1;33m(\u001b[0m\u001b[0mself\u001b[0m\u001b[1;33m.\u001b[0m\u001b[0masyncio_loop\u001b[0m\u001b[1;33m)\u001b[0m\u001b[1;33m\u001b[0m\u001b[0m\n\u001b[1;32m--> 153\u001b[1;33m             \u001b[0mself\u001b[0m\u001b[1;33m.\u001b[0m\u001b[0masyncio_loop\u001b[0m\u001b[1;33m.\u001b[0m\u001b[0mrun_forever\u001b[0m\u001b[1;33m(\u001b[0m\u001b[1;33m)\u001b[0m\u001b[1;33m\u001b[0m\u001b[0m\n\u001b[0m\u001b[0;32m    154\u001b[0m         \u001b[1;32mfinally\u001b[0m\u001b[1;33m:\u001b[0m\u001b[1;33m\u001b[0m\u001b[0m\n\u001b[0;32m    155\u001b[0m             \u001b[0masyncio\u001b[0m\u001b[1;33m.\u001b[0m\u001b[0mset_event_loop\u001b[0m\u001b[1;33m(\u001b[0m\u001b[0mold_loop\u001b[0m\u001b[1;33m)\u001b[0m\u001b[1;33m\u001b[0m\u001b[0m\n",
      "\u001b[1;32mD:\\ProgramFilesD\\Anaconda3\\envs\\mesa\\lib\\site-packages\\nest_asyncio.py\u001b[0m in \u001b[0;36mrun_forever\u001b[1;34m(self)\u001b[0m\n\u001b[0;32m     69\u001b[0m             \u001b[1;32mwhile\u001b[0m \u001b[1;32mTrue\u001b[0m\u001b[1;33m:\u001b[0m\u001b[1;33m\u001b[0m\u001b[0m\n\u001b[0;32m     70\u001b[0m                 \u001b[1;32mtry\u001b[0m\u001b[1;33m:\u001b[0m\u001b[1;33m\u001b[0m\u001b[0m\n\u001b[1;32m---> 71\u001b[1;33m                     \u001b[0mself\u001b[0m\u001b[1;33m.\u001b[0m\u001b[0m_run_once\u001b[0m\u001b[1;33m(\u001b[0m\u001b[1;33m)\u001b[0m\u001b[1;33m\u001b[0m\u001b[0m\n\u001b[0m\u001b[0;32m     72\u001b[0m                 \u001b[1;32mexcept\u001b[0m \u001b[0mIndexError\u001b[0m\u001b[1;33m:\u001b[0m\u001b[1;33m\u001b[0m\u001b[0m\n\u001b[0;32m     73\u001b[0m                     \u001b[1;31m# Ignore 'pop from an empty deque' errors.\u001b[0m\u001b[1;33m\u001b[0m\u001b[1;33m\u001b[0m\u001b[0m\n",
      "\u001b[1;32mD:\\ProgramFilesD\\Anaconda3\\envs\\mesa\\lib\\asyncio\\base_events.py\u001b[0m in \u001b[0;36m_run_once\u001b[1;34m(self)\u001b[0m\n\u001b[0;32m   1394\u001b[0m                            timeout * 1e3, dt * 1e3)\n\u001b[0;32m   1395\u001b[0m         \u001b[1;32melse\u001b[0m\u001b[1;33m:\u001b[0m\u001b[1;33m\u001b[0m\u001b[0m\n\u001b[1;32m-> 1396\u001b[1;33m             \u001b[0mevent_list\u001b[0m \u001b[1;33m=\u001b[0m \u001b[0mself\u001b[0m\u001b[1;33m.\u001b[0m\u001b[0m_selector\u001b[0m\u001b[1;33m.\u001b[0m\u001b[0mselect\u001b[0m\u001b[1;33m(\u001b[0m\u001b[0mtimeout\u001b[0m\u001b[1;33m)\u001b[0m\u001b[1;33m\u001b[0m\u001b[0m\n\u001b[0m\u001b[0;32m   1397\u001b[0m         \u001b[0mself\u001b[0m\u001b[1;33m.\u001b[0m\u001b[0m_process_events\u001b[0m\u001b[1;33m(\u001b[0m\u001b[0mevent_list\u001b[0m\u001b[1;33m)\u001b[0m\u001b[1;33m\u001b[0m\u001b[0m\n\u001b[0;32m   1398\u001b[0m \u001b[1;33m\u001b[0m\u001b[0m\n",
      "\u001b[1;32mD:\\ProgramFilesD\\Anaconda3\\envs\\mesa\\lib\\selectors.py\u001b[0m in \u001b[0;36mselect\u001b[1;34m(self, timeout)\u001b[0m\n\u001b[0;32m    321\u001b[0m         \u001b[0mready\u001b[0m \u001b[1;33m=\u001b[0m \u001b[1;33m[\u001b[0m\u001b[1;33m]\u001b[0m\u001b[1;33m\u001b[0m\u001b[0m\n\u001b[0;32m    322\u001b[0m         \u001b[1;32mtry\u001b[0m\u001b[1;33m:\u001b[0m\u001b[1;33m\u001b[0m\u001b[0m\n\u001b[1;32m--> 323\u001b[1;33m             \u001b[0mr\u001b[0m\u001b[1;33m,\u001b[0m \u001b[0mw\u001b[0m\u001b[1;33m,\u001b[0m \u001b[0m_\u001b[0m \u001b[1;33m=\u001b[0m \u001b[0mself\u001b[0m\u001b[1;33m.\u001b[0m\u001b[0m_select\u001b[0m\u001b[1;33m(\u001b[0m\u001b[0mself\u001b[0m\u001b[1;33m.\u001b[0m\u001b[0m_readers\u001b[0m\u001b[1;33m,\u001b[0m \u001b[0mself\u001b[0m\u001b[1;33m.\u001b[0m\u001b[0m_writers\u001b[0m\u001b[1;33m,\u001b[0m \u001b[1;33m[\u001b[0m\u001b[1;33m]\u001b[0m\u001b[1;33m,\u001b[0m \u001b[0mtimeout\u001b[0m\u001b[1;33m)\u001b[0m\u001b[1;33m\u001b[0m\u001b[0m\n\u001b[0m\u001b[0;32m    324\u001b[0m         \u001b[1;32mexcept\u001b[0m \u001b[0mInterruptedError\u001b[0m\u001b[1;33m:\u001b[0m\u001b[1;33m\u001b[0m\u001b[0m\n\u001b[0;32m    325\u001b[0m             \u001b[1;32mreturn\u001b[0m \u001b[0mready\u001b[0m\u001b[1;33m\u001b[0m\u001b[0m\n",
      "\u001b[1;32mD:\\ProgramFilesD\\Anaconda3\\envs\\mesa\\lib\\selectors.py\u001b[0m in \u001b[0;36m_select\u001b[1;34m(self, r, w, _, timeout)\u001b[0m\n\u001b[0;32m    312\u001b[0m     \u001b[1;32mif\u001b[0m \u001b[0msys\u001b[0m\u001b[1;33m.\u001b[0m\u001b[0mplatform\u001b[0m \u001b[1;33m==\u001b[0m \u001b[1;34m'win32'\u001b[0m\u001b[1;33m:\u001b[0m\u001b[1;33m\u001b[0m\u001b[0m\n\u001b[0;32m    313\u001b[0m         \u001b[1;32mdef\u001b[0m \u001b[0m_select\u001b[0m\u001b[1;33m(\u001b[0m\u001b[0mself\u001b[0m\u001b[1;33m,\u001b[0m \u001b[0mr\u001b[0m\u001b[1;33m,\u001b[0m \u001b[0mw\u001b[0m\u001b[1;33m,\u001b[0m \u001b[0m_\u001b[0m\u001b[1;33m,\u001b[0m \u001b[0mtimeout\u001b[0m\u001b[1;33m=\u001b[0m\u001b[1;32mNone\u001b[0m\u001b[1;33m)\u001b[0m\u001b[1;33m:\u001b[0m\u001b[1;33m\u001b[0m\u001b[0m\n\u001b[1;32m--> 314\u001b[1;33m             \u001b[0mr\u001b[0m\u001b[1;33m,\u001b[0m \u001b[0mw\u001b[0m\u001b[1;33m,\u001b[0m \u001b[0mx\u001b[0m \u001b[1;33m=\u001b[0m \u001b[0mselect\u001b[0m\u001b[1;33m.\u001b[0m\u001b[0mselect\u001b[0m\u001b[1;33m(\u001b[0m\u001b[0mr\u001b[0m\u001b[1;33m,\u001b[0m \u001b[0mw\u001b[0m\u001b[1;33m,\u001b[0m \u001b[0mw\u001b[0m\u001b[1;33m,\u001b[0m \u001b[0mtimeout\u001b[0m\u001b[1;33m)\u001b[0m\u001b[1;33m\u001b[0m\u001b[0m\n\u001b[0m\u001b[0;32m    315\u001b[0m             \u001b[1;32mreturn\u001b[0m \u001b[0mr\u001b[0m\u001b[1;33m,\u001b[0m \u001b[0mw\u001b[0m \u001b[1;33m+\u001b[0m \u001b[0mx\u001b[0m\u001b[1;33m,\u001b[0m \u001b[1;33m[\u001b[0m\u001b[1;33m]\u001b[0m\u001b[1;33m\u001b[0m\u001b[0m\n\u001b[0;32m    316\u001b[0m     \u001b[1;32melse\u001b[0m\u001b[1;33m:\u001b[0m\u001b[1;33m\u001b[0m\u001b[0m\n",
      "\u001b[1;31mKeyboardInterrupt\u001b[0m: "
     ]
    }
   ],
   "source": [
    "server.launch()"
   ]
  },
  {
   "cell_type": "code",
   "execution_count": null,
   "metadata": {},
   "outputs": [],
   "source": []
  }
 ],
 "metadata": {
  "kernelspec": {
   "display_name": "Multi-Agent",
   "language": "python",
   "name": "mesa"
  },
  "language_info": {
   "codemirror_mode": {
    "name": "ipython",
    "version": 3
   },
   "file_extension": ".py",
   "mimetype": "text/x-python",
   "name": "python",
   "nbconvert_exporter": "python",
   "pygments_lexer": "ipython3",
   "version": "3.6.5"
  }
 },
 "nbformat": 4,
 "nbformat_minor": 4
}
