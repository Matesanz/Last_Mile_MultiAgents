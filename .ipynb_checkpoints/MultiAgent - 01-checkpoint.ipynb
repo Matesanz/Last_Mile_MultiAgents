{
 "cells": [
  {
   "cell_type": "markdown",
   "metadata": {},
   "source": [
    "# Last Mille MultiAgent Environment"
   ]
  },
  {
   "cell_type": "code",
   "execution_count": 1,
   "metadata": {},
   "outputs": [],
   "source": [
    "%matplotlib inline\n",
    "import matplotlib.pyplot as plt\n",
    "from mesa import Agent, Model\n",
    "from mesa.time import RandomActivation\n",
    "from mesa.space import MultiGrid\n",
    "from mesa.datacollection import DataCollector"
   ]
  },
  {
   "cell_type": "markdown",
   "metadata": {},
   "source": [
    "## Classes for Model and Agents"
   ]
  },
  {
   "cell_type": "code",
   "execution_count": 35,
   "metadata": {},
   "outputs": [],
   "source": [
    "class MoneyModel(Model):\n",
    "    \"\"\"A model with some number of agents.\"\"\"\n",
    "    def __init__(self, N, width, height):\n",
    "        self.num_agents = N\n",
    "        self.grid = MultiGrid(width, height, True)\n",
    "        self.schedule = RandomActivation(self)\n",
    "        self.running = True\n",
    "\n",
    "        # Create agents\n",
    "        for i in range(self.num_agents):\n",
    "            a = MoneyAgent(i, self)\n",
    "            self.schedule.add(a)\n",
    "\n",
    "            # Add the agent to a random grid cell\n",
    "            x = self.random.randrange(self.grid.width)\n",
    "            y = self.random.randrange(self.grid.height)\n",
    "            self.grid.place_agent(a, (x, y))\n",
    "            \n",
    "        self.datacollector = DataCollector(\n",
    "            model_reporters={\"Gini\": compute_gini,\n",
    "                            \"Steps\": sum1\n",
    "                            },  # `compute_gini` defined above\n",
    "            agent_reporters={\"Wealth\": \"wealth\"})\n",
    "            \n",
    "    def step(self):\n",
    "        self.datacollector.collect(self)\n",
    "        self.schedule.step()\n"
   ]
  },
  {
   "cell_type": "code",
   "execution_count": 3,
   "metadata": {},
   "outputs": [],
   "source": [
    "class MoneyAgent(Agent):\n",
    "    \"\"\"An agent with fixed initial wealth.\"\"\"\n",
    "    def __init__(self, unique_id, model):\n",
    "        super().__init__(unique_id, model)\n",
    "        self.wealth = 1\n",
    "    \n",
    "    def step(self):\n",
    "        self.move()\n",
    "        if self.wealth > 0:\n",
    "            self.give_money()\n",
    "            \n",
    "    def move(self):\n",
    "        possible_steps = self.model.grid.get_neighborhood(\n",
    "            self.pos,\n",
    "            moore=True,\n",
    "            include_center=False\n",
    "        )\n",
    "        new_position = self.random.choice(possible_steps)\n",
    "        self.model.grid.move_agent(self, new_position)\n",
    "        \n",
    "    def give_money(self):\n",
    "        cellmates = self.model.grid.get_cell_list_contents([self.pos])\n",
    "        if len(cellmates) > 1:\n",
    "            other = self.random.choice(cellmates)\n",
    "            other.wealth += 1\n",
    "            self.wealth -= 1"
   ]
  },
  {
   "cell_type": "code",
   "execution_count": 4,
   "metadata": {},
   "outputs": [],
   "source": [
    "def agent_portrayal(agent):\n",
    "    portrayal = {\"Shape\": \"circle\",\n",
    "                 \"Filled\": \"true\",\n",
    "                 \"r\": 0.5}\n",
    "\n",
    "    if agent.wealth > 0:\n",
    "        portrayal[\"Color\"] = \"red\"\n",
    "        portrayal[\"Layer\"] = 0\n",
    "    else:\n",
    "        portrayal[\"Color\"] = \"grey\"\n",
    "        portrayal[\"Layer\"] = 1\n",
    "        portrayal[\"r\"] = 0.2\n",
    "    return portrayal"
   ]
  },
  {
   "cell_type": "code",
   "execution_count": 27,
   "metadata": {},
   "outputs": [],
   "source": [
    "def compute_gini(model):\n",
    "    agent_wealths = [agent.wealth for agent in model.schedule.agents]\n",
    "    x = sorted(agent_wealths)\n",
    "    N = model.num_agents\n",
    "    B = sum( xi * (N-i) for i,xi in enumerate(x) ) / (N*sum(x))\n",
    "    return (1 + (1/N) - 2*B)"
   ]
  },
  {
   "cell_type": "code",
   "execution_count": 34,
   "metadata": {},
   "outputs": [],
   "source": [
    "def sum1(model):\n",
    "    return model.schedule.steps"
   ]
  },
  {
   "cell_type": "markdown",
   "metadata": {},
   "source": [
    "## Start Simulation"
   ]
  },
  {
   "cell_type": "code",
   "execution_count": 18,
   "metadata": {},
   "outputs": [],
   "source": [
    "model = MoneyModel(200, 10, 10)\n",
    "for i in range(100):\n",
    "    model.step()"
   ]
  },
  {
   "cell_type": "code",
   "execution_count": 19,
   "metadata": {},
   "outputs": [],
   "source": [
    "agent_wealth = model.datacollector.get_agent_vars_dataframe()"
   ]
  },
  {
   "cell_type": "code",
   "execution_count": 20,
   "metadata": {},
   "outputs": [
    {
     "data": {
      "text/plain": [
       "<matplotlib.axes._subplots.AxesSubplot at 0x2263f672748>"
      ]
     },
     "execution_count": 20,
     "metadata": {},
     "output_type": "execute_result"
    },
    {
     "data": {
      "image/png": "[encoded data removed]",
      "text/plain": [
       "<Figure size 432x288 with 1 Axes>"
      ]
     },
     "metadata": {
      "needs_background": "light"
     },
     "output_type": "display_data"
    }
   ],
   "source": [
    "end_wealth = agent_wealth.xs(99, level=\"Step\")[\"Wealth\"]\n",
    "end_wealth.hist(bins=range(agent_wealth.Wealth.max()+1))"
   ]
  },
  {
   "cell_type": "markdown",
   "metadata": {},
   "source": [
    "### Get Insights"
   ]
  },
  {
   "cell_type": "markdown",
   "metadata": {},
   "source": [
    "agent_wealth = [a.wealth for a in model.schedule.agents]\n",
    "plt.hist(agent_wealth)"
   ]
  },
  {
   "cell_type": "markdown",
   "metadata": {},
   "source": [
    "import numpy as np\n",
    "\n",
    "agent_counts = np.zeros((model.grid.width, model.grid.height))\n",
    "for cell in model.grid.coord_iter():\n",
    "    cell_content, x, y = cell\n",
    "    agent_count = len(cell_content)\n",
    "    agent_counts[x][y] = agent_count\n",
    "plt.imshow(agent_counts, interpolation='nearest')\n",
    "plt.colorbar()"
   ]
  },
  {
   "cell_type": "markdown",
   "metadata": {},
   "source": [
    "## Visualization in Browser"
   ]
  },
  {
   "cell_type": "code",
   "execution_count": 5,
   "metadata": {},
   "outputs": [],
   "source": [
    "from mesa.visualization.ModularVisualization import ModularServer\n",
    "from mesa.visualization.modules import CanvasGrid, ChartModule\n",
    "import nest_asyncio\n",
    "nest_asyncio.apply()"
   ]
  },
  {
   "cell_type": "code",
   "execution_count": 6,
   "metadata": {},
   "outputs": [],
   "source": [
    "grid = CanvasGrid(agent_portrayal, 10, 10, 500, 500)"
   ]
  },
  {
   "cell_type": "code",
   "execution_count": 36,
   "metadata": {},
   "outputs": [],
   "source": [
    "chart = ChartModule([{\"Label\": \"Gini\",\n",
    "                      \"Color\": \"Black\"}],\n",
    "                    data_collector_name='datacollector')\n",
    "chart2 = ChartModule([{\"Label\": \"Steps\",\n",
    "                      \"Color\": \"Blue\"}],\n",
    "                    data_collector_name='datacollector')"
   ]
  },
  {
   "cell_type": "code",
   "execution_count": 39,
   "metadata": {
    "scrolled": false
   },
   "outputs": [],
   "source": [
    "server = ModularServer(MoneyModel,\n",
    "                       [grid, chart],\n",
    "                       \"Money Model\",\n",
    "                       {\"N\":20, \"width\":10, \"height\":10})\n",
    "server.port = 8521 # The default\n"
   ]
  },
  {
   "cell_type": "code",
   "execution_count": null,
   "metadata": {},
   "outputs": [],
   "source": []
  },
  {
   "cell_type": "code",
   "execution_count": null,
   "metadata": {},
   "outputs": [
    {
     "name": "stdout",
     "output_type": "stream",
     "text": [
      "Interface starting at http://127.0.0.1:8523\n",
      "Socket opened!\n",
      "{\"type\":\"get_params\"}\n",
      "{\"type\":\"reset\"}\n",
      "{\"type\":\"get_step\",\"step\":1}\n",
      "{\"type\":\"get_step\",\"step\":2}\n",
      "{\"type\":\"get_step\",\"step\":3}\n",
      "{\"type\":\"get_step\",\"step\":4}\n",
      "{\"type\":\"get_step\",\"step\":5}\n",
      "{\"type\":\"get_step\",\"step\":6}\n",
      "{\"type\":\"get_step\",\"step\":7}\n",
      "{\"type\":\"get_step\",\"step\":8}\n",
      "{\"type\":\"get_step\",\"step\":9}\n",
      "{\"type\":\"get_step\",\"step\":10}\n",
      "{\"type\":\"get_step\",\"step\":11}\n",
      "{\"type\":\"get_step\",\"step\":12}\n",
      "{\"type\":\"get_step\",\"step\":13}\n",
      "{\"type\":\"get_step\",\"step\":14}\n",
      "{\"type\":\"get_step\",\"step\":15}\n",
      "{\"type\":\"get_step\",\"step\":16}\n",
      "{\"type\":\"get_step\",\"step\":17}\n",
      "{\"type\":\"get_step\",\"step\":18}\n",
      "{\"type\":\"get_step\",\"step\":19}\n",
      "{\"type\":\"get_step\",\"step\":20}\n",
      "{\"type\":\"get_step\",\"step\":21}\n",
      "{\"type\":\"get_step\",\"step\":22}\n",
      "{\"type\":\"get_step\",\"step\":23}\n",
      "{\"type\":\"get_step\",\"step\":24}\n",
      "{\"type\":\"get_step\",\"step\":25}\n",
      "{\"type\":\"get_step\",\"step\":26}\n",
      "{\"type\":\"get_step\",\"step\":27}\n",
      "{\"type\":\"get_step\",\"step\":28}\n",
      "{\"type\":\"get_step\",\"step\":29}\n",
      "{\"type\":\"get_step\",\"step\":30}\n",
      "{\"type\":\"get_step\",\"step\":31}\n",
      "{\"type\":\"get_step\",\"step\":32}\n",
      "{\"type\":\"get_step\",\"step\":33}\n",
      "{\"type\":\"get_step\",\"step\":34}\n",
      "{\"type\":\"get_step\",\"step\":35}\n",
      "{\"type\":\"get_step\",\"step\":36}\n",
      "{\"type\":\"get_step\",\"step\":37}\n",
      "{\"type\":\"get_step\",\"step\":38}\n",
      "{\"type\":\"get_step\",\"step\":39}\n",
      "{\"type\":\"get_step\",\"step\":40}\n",
      "{\"type\":\"get_step\",\"step\":41}\n",
      "{\"type\":\"get_step\",\"step\":42}\n",
      "{\"type\":\"get_step\",\"step\":43}\n",
      "{\"type\":\"get_step\",\"step\":44}\n",
      "{\"type\":\"get_step\",\"step\":45}\n",
      "{\"type\":\"get_step\",\"step\":46}\n",
      "{\"type\":\"get_step\",\"step\":47}\n",
      "{\"type\":\"get_step\",\"step\":48}\n",
      "{\"type\":\"get_step\",\"step\":49}\n",
      "{\"type\":\"get_step\",\"step\":50}\n",
      "{\"type\":\"get_step\",\"step\":51}\n",
      "{\"type\":\"get_step\",\"step\":52}\n",
      "{\"type\":\"get_step\",\"step\":53}\n",
      "{\"type\":\"get_step\",\"step\":54}\n",
      "{\"type\":\"get_step\",\"step\":55}\n",
      "{\"type\":\"get_step\",\"step\":56}\n",
      "{\"type\":\"get_step\",\"step\":57}\n",
      "{\"type\":\"get_step\",\"step\":58}\n",
      "{\"type\":\"get_step\",\"step\":59}\n",
      "{\"type\":\"get_step\",\"step\":60}\n",
      "{\"type\":\"get_step\",\"step\":61}\n",
      "{\"type\":\"get_step\",\"step\":62}\n",
      "{\"type\":\"get_step\",\"step\":63}\n",
      "{\"type\":\"get_step\",\"step\":64}\n",
      "{\"type\":\"get_step\",\"step\":65}\n",
      "{\"type\":\"get_step\",\"step\":66}\n",
      "{\"type\":\"get_step\",\"step\":67}\n",
      "{\"type\":\"get_step\",\"step\":68}\n",
      "{\"type\":\"get_step\",\"step\":69}\n",
      "{\"type\":\"get_step\",\"step\":70}\n",
      "{\"type\":\"get_step\",\"step\":71}\n",
      "{\"type\":\"get_step\",\"step\":72}\n",
      "{\"type\":\"get_step\",\"step\":73}\n",
      "{\"type\":\"get_step\",\"step\":74}\n",
      "{\"type\":\"get_step\",\"step\":75}\n",
      "{\"type\":\"get_step\",\"step\":76}\n",
      "{\"type\":\"get_step\",\"step\":77}\n",
      "{\"type\":\"get_step\",\"step\":78}\n",
      "{\"type\":\"get_step\",\"step\":79}\n",
      "{\"type\":\"get_step\",\"step\":80}\n",
      "{\"type\":\"get_step\",\"step\":81}\n",
      "{\"type\":\"get_step\",\"step\":82}\n",
      "{\"type\":\"get_step\",\"step\":83}\n",
      "{\"type\":\"get_step\",\"step\":84}\n",
      "{\"type\":\"get_step\",\"step\":85}\n",
      "{\"type\":\"get_step\",\"step\":86}\n",
      "{\"type\":\"get_step\",\"step\":87}\n",
      "{\"type\":\"get_step\",\"step\":88}\n",
      "{\"type\":\"get_step\",\"step\":89}\n",
      "{\"type\":\"get_step\",\"step\":90}\n",
      "{\"type\":\"get_step\",\"step\":91}\n",
      "{\"type\":\"get_step\",\"step\":92}\n",
      "{\"type\":\"get_step\",\"step\":93}\n",
      "{\"type\":\"get_step\",\"step\":94}\n",
      "{\"type\":\"get_step\",\"step\":95}\n",
      "{\"type\":\"get_step\",\"step\":96}\n",
      "{\"type\":\"get_step\",\"step\":97}\n",
      "{\"type\":\"get_step\",\"step\":98}\n",
      "{\"type\":\"get_step\",\"step\":99}\n",
      "{\"type\":\"get_step\",\"step\":100}\n",
      "{\"type\":\"get_step\",\"step\":101}\n",
      "{\"type\":\"get_step\",\"step\":102}\n",
      "{\"type\":\"get_step\",\"step\":103}\n",
      "{\"type\":\"get_step\",\"step\":104}\n",
      "{\"type\":\"get_step\",\"step\":105}\n",
      "{\"type\":\"get_step\",\"step\":106}\n",
      "{\"type\":\"get_step\",\"step\":107}\n",
      "{\"type\":\"get_step\",\"step\":108}\n",
      "{\"type\":\"get_step\",\"step\":109}\n",
      "{\"type\":\"get_step\",\"step\":110}\n",
      "{\"type\":\"get_step\",\"step\":111}\n",
      "{\"type\":\"get_step\",\"step\":112}\n",
      "{\"type\":\"get_step\",\"step\":113}\n",
      "{\"type\":\"get_step\",\"step\":114}\n",
      "{\"type\":\"get_step\",\"step\":115}\n",
      "{\"type\":\"get_step\",\"step\":116}\n",
      "{\"type\":\"get_step\",\"step\":117}\n",
      "{\"type\":\"get_step\",\"step\":118}\n",
      "{\"type\":\"get_step\",\"step\":119}\n",
      "{\"type\":\"get_step\",\"step\":120}\n",
      "{\"type\":\"get_step\",\"step\":121}\n",
      "{\"type\":\"get_step\",\"step\":122}\n",
      "{\"type\":\"get_step\",\"step\":123}\n",
      "{\"type\":\"get_step\",\"step\":124}\n",
      "{\"type\":\"get_step\",\"step\":125}\n",
      "{\"type\":\"get_step\",\"step\":126}\n",
      "{\"type\":\"get_step\",\"step\":127}\n",
      "{\"type\":\"get_step\",\"step\":128}\n",
      "{\"type\":\"get_step\",\"step\":129}\n",
      "{\"type\":\"get_step\",\"step\":130}\n",
      "{\"type\":\"get_step\",\"step\":131}\n",
      "{\"type\":\"get_step\",\"step\":132}\n",
      "{\"type\":\"get_step\",\"step\":133}\n",
      "{\"type\":\"get_step\",\"step\":134}\n",
      "{\"type\":\"get_step\",\"step\":135}\n",
      "{\"type\":\"get_step\",\"step\":136}\n",
      "{\"type\":\"get_step\",\"step\":137}\n",
      "{\"type\":\"get_step\",\"step\":138}\n",
      "{\"type\":\"get_step\",\"step\":139}\n",
      "{\"type\":\"get_step\",\"step\":140}\n",
      "{\"type\":\"get_step\",\"step\":141}\n",
      "{\"type\":\"get_step\",\"step\":142}\n",
      "{\"type\":\"get_step\",\"step\":143}\n",
      "{\"type\":\"get_step\",\"step\":144}\n",
      "{\"type\":\"get_step\",\"step\":145}\n",
      "{\"type\":\"get_step\",\"step\":146}\n",
      "{\"type\":\"get_step\",\"step\":147}\n",
      "{\"type\":\"get_step\",\"step\":148}\n",
      "{\"type\":\"get_step\",\"step\":149}\n",
      "{\"type\":\"get_step\",\"step\":150}\n",
      "{\"type\":\"get_step\",\"step\":151}\n",
      "{\"type\":\"get_step\",\"step\":152}\n",
      "{\"type\":\"get_step\",\"step\":153}\n",
      "{\"type\":\"get_step\",\"step\":154}\n",
      "{\"type\":\"get_step\",\"step\":155}\n",
      "{\"type\":\"get_step\",\"step\":156}\n",
      "{\"type\":\"get_step\",\"step\":157}\n",
      "{\"type\":\"get_step\",\"step\":158}\n",
      "{\"type\":\"get_step\",\"step\":159}\n",
      "{\"type\":\"get_step\",\"step\":160}\n",
      "{\"type\":\"get_step\",\"step\":161}\n",
      "{\"type\":\"get_step\",\"step\":162}\n",
      "{\"type\":\"get_step\",\"step\":163}\n",
      "{\"type\":\"get_step\",\"step\":164}\n",
      "{\"type\":\"get_step\",\"step\":165}\n",
      "{\"type\":\"get_step\",\"step\":166}\n",
      "{\"type\":\"get_step\",\"step\":167}\n",
      "{\"type\":\"get_step\",\"step\":168}\n",
      "{\"type\":\"get_step\",\"step\":169}\n",
      "{\"type\":\"get_step\",\"step\":170}\n",
      "{\"type\":\"get_step\",\"step\":171}\n",
      "{\"type\":\"get_step\",\"step\":172}\n",
      "{\"type\":\"get_step\",\"step\":173}\n",
      "{\"type\":\"get_step\",\"step\":174}\n",
      "{\"type\":\"get_step\",\"step\":175}\n",
      "{\"type\":\"get_step\",\"step\":176}\n",
      "{\"type\":\"get_step\",\"step\":177}\n",
      "{\"type\":\"get_step\",\"step\":178}\n",
      "{\"type\":\"get_step\",\"step\":179}\n",
      "{\"type\":\"get_step\",\"step\":180}\n",
      "{\"type\":\"get_step\",\"step\":181}\n",
      "{\"type\":\"get_step\",\"step\":182}\n",
      "{\"type\":\"get_step\",\"step\":183}\n",
      "{\"type\":\"get_step\",\"step\":184}\n",
      "{\"type\":\"get_step\",\"step\":185}\n",
      "{\"type\":\"get_step\",\"step\":186}\n",
      "{\"type\":\"get_step\",\"step\":187}\n",
      "{\"type\":\"get_step\",\"step\":188}\n",
      "{\"type\":\"get_step\",\"step\":189}\n",
      "{\"type\":\"get_step\",\"step\":190}\n",
      "{\"type\":\"get_step\",\"step\":191}\n",
      "{\"type\":\"get_step\",\"step\":192}\n",
      "{\"type\":\"get_step\",\"step\":193}\n",
      "{\"type\":\"get_step\",\"step\":194}\n",
      "{\"type\":\"get_step\",\"step\":195}\n",
      "{\"type\":\"get_step\",\"step\":196}\n",
      "{\"type\":\"get_step\",\"step\":197}\n",
      "{\"type\":\"get_step\",\"step\":198}\n",
      "{\"type\":\"get_step\",\"step\":199}\n",
      "{\"type\":\"get_step\",\"step\":200}\n",
      "{\"type\":\"get_step\",\"step\":201}\n",
      "{\"type\":\"get_step\",\"step\":202}\n",
      "{\"type\":\"get_step\",\"step\":203}\n",
      "{\"type\":\"get_step\",\"step\":204}\n",
      "{\"type\":\"get_step\",\"step\":205}\n",
      "{\"type\":\"get_step\",\"step\":206}\n",
      "{\"type\":\"get_step\",\"step\":207}\n",
      "{\"type\":\"get_step\",\"step\":208}\n",
      "{\"type\":\"get_step\",\"step\":209}\n",
      "{\"type\":\"get_step\",\"step\":210}\n",
      "{\"type\":\"get_step\",\"step\":211}\n",
      "{\"type\":\"get_step\",\"step\":212}\n",
      "{\"type\":\"get_step\",\"step\":213}\n",
      "{\"type\":\"get_step\",\"step\":214}\n",
      "{\"type\":\"get_step\",\"step\":215}\n",
      "{\"type\":\"get_step\",\"step\":216}\n",
      "{\"type\":\"get_step\",\"step\":217}\n",
      "{\"type\":\"get_step\",\"step\":218}\n",
      "{\"type\":\"get_step\",\"step\":219}\n",
      "{\"type\":\"get_step\",\"step\":220}\n",
      "{\"type\":\"get_step\",\"step\":221}\n",
      "{\"type\":\"get_step\",\"step\":222}\n",
      "{\"type\":\"get_step\",\"step\":223}\n",
      "{\"type\":\"get_step\",\"step\":224}\n",
      "{\"type\":\"get_step\",\"step\":225}\n",
      "{\"type\":\"get_step\",\"step\":226}\n",
      "{\"type\":\"get_step\",\"step\":227}\n",
      "{\"type\":\"get_step\",\"step\":228}\n",
      "{\"type\":\"get_step\",\"step\":229}\n",
      "{\"type\":\"get_step\",\"step\":230}\n",
      "{\"type\":\"get_step\",\"step\":231}\n",
      "{\"type\":\"get_step\",\"step\":232}\n",
      "{\"type\":\"get_step\",\"step\":233}\n",
      "{\"type\":\"get_step\",\"step\":234}\n",
      "{\"type\":\"get_step\",\"step\":235}\n",
      "{\"type\":\"get_step\",\"step\":236}\n",
      "{\"type\":\"get_step\",\"step\":237}\n",
      "{\"type\":\"get_step\",\"step\":238}\n",
      "{\"type\":\"get_step\",\"step\":239}\n",
      "{\"type\":\"get_step\",\"step\":240}\n",
      "{\"type\":\"get_step\",\"step\":241}\n",
      "{\"type\":\"get_step\",\"step\":242}\n",
      "{\"type\":\"get_step\",\"step\":243}\n",
      "{\"type\":\"get_step\",\"step\":244}\n",
      "{\"type\":\"get_step\",\"step\":245}\n",
      "{\"type\":\"get_step\",\"step\":246}\n",
      "{\"type\":\"get_step\",\"step\":247}\n",
      "{\"type\":\"get_step\",\"step\":248}\n",
      "{\"type\":\"get_step\",\"step\":249}\n",
      "{\"type\":\"get_step\",\"step\":250}\n",
      "{\"type\":\"get_step\",\"step\":251}\n",
      "{\"type\":\"get_step\",\"step\":252}\n",
      "{\"type\":\"get_step\",\"step\":253}\n",
      "{\"type\":\"get_step\",\"step\":254}\n",
      "{\"type\":\"get_step\",\"step\":255}\n",
      "{\"type\":\"get_step\",\"step\":256}\n",
      "{\"type\":\"get_step\",\"step\":257}\n",
      "{\"type\":\"get_step\",\"step\":258}\n",
      "{\"type\":\"get_step\",\"step\":259}\n",
      "{\"type\":\"get_step\",\"step\":260}\n",
      "{\"type\":\"get_step\",\"step\":261}\n",
      "{\"type\":\"get_step\",\"step\":262}\n",
      "{\"type\":\"get_step\",\"step\":263}\n",
      "{\"type\":\"get_step\",\"step\":264}\n",
      "{\"type\":\"get_step\",\"step\":265}\n"
     ]
    },
    {
     "name": "stdout",
     "output_type": "stream",
     "text": [
      "{\"type\":\"get_step\",\"step\":266}\n",
      "{\"type\":\"get_step\",\"step\":267}\n",
      "{\"type\":\"get_step\",\"step\":268}\n",
      "{\"type\":\"get_step\",\"step\":269}\n",
      "{\"type\":\"get_step\",\"step\":270}\n",
      "{\"type\":\"get_step\",\"step\":271}\n",
      "{\"type\":\"get_step\",\"step\":272}\n",
      "{\"type\":\"get_step\",\"step\":273}\n",
      "{\"type\":\"get_step\",\"step\":274}\n"
     ]
    }
   ],
   "source": [
    "server.launch()"
   ]
  }
 ],
 "metadata": {
  "kernelspec": {
   "display_name": "Multi-Agent",
   "language": "python",
   "name": "mesa"
  },
  "language_info": {
   "codemirror_mode": {
    "name": "ipython",
    "version": 3
   },
   "file_extension": ".py",
   "mimetype": "text/x-python",
   "name": "python",
   "nbconvert_exporter": "python",
   "pygments_lexer": "ipython3",
   "version": "3.6.5"
  }
 },
 "nbformat": 4,
 "nbformat_minor": 4
}
